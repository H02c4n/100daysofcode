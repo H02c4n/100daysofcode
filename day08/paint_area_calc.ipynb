{
 "cells": [
  {
   "cell_type": "code",
   "execution_count": 7,
   "metadata": {},
   "outputs": [
    {
     "name": "stdout",
     "output_type": "stream",
     "text": [
      "You will need 1 cans of paint.\n"
     ]
    }
   ],
   "source": [
    "import math\n",
    "def number_of_cans(height, width, cover):\n",
    "    cans =  math.ceil(height*width/cover)\n",
    "    print(f\"You will need {cans} cans of paint.\")\n",
    "\n",
    "\n",
    "\n",
    "area_h = float(input(\"Height of wall\"))\n",
    "area_w = float(input(\"Width of wall\"))\n",
    "coverage = 5   #! 1 can of paint can cover 5 square meters of wall\n",
    "\n",
    "number_of_cans(height=area_h, width=area_w, cover=coverage)"
   ]
  }
 ],
 "metadata": {
  "kernelspec": {
   "display_name": "Python 3",
   "language": "python",
   "name": "python3"
  },
  "language_info": {
   "codemirror_mode": {
    "name": "ipython",
    "version": 3
   },
   "file_extension": ".py",
   "mimetype": "text/x-python",
   "name": "python",
   "nbconvert_exporter": "python",
   "pygments_lexer": "ipython3",
   "version": "3.11.0"
  },
  "orig_nbformat": 4
 },
 "nbformat": 4,
 "nbformat_minor": 2
}
