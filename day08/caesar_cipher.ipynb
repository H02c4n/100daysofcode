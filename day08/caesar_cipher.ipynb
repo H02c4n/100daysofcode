{
 "cells": [
  {
   "cell_type": "code",
   "execution_count": 15,
   "metadata": {},
   "outputs": [
    {
     "name": "stdout",
     "output_type": "stream",
     "text": [
      "The decoded text is upgp\n",
      "The decoded text is upgp\n"
     ]
    }
   ],
   "source": [
    "alphabet = ['a', 'b', 'c', 'd', 'e', 'f', 'g', 'h', 'i', 'j', 'k', 'l', 'm', 'n', 'o', 'p', 'q', 'r', 's', 't', 'u', 'v', 'w', 'x', 'y', 'z']\n",
    "\n",
    "direction = input(\"Type 'encode' to encrypt, type 'decode' to decrypt:\\n\")\n",
    "text = input(\"Type your message:\\n\").lower()\n",
    "shift = int(input(\"Type the shift number:\\n\"))\n",
    "\n",
    "\n",
    "def caesar(start_text, shift_amount, cipher_direction):\n",
    "    end_text = \"\"\n",
    "    if cipher_direction == \"decode\":\n",
    "            shift_amount *= -1\n",
    "    for letter in start_text:\n",
    "        position = alphabet.index(letter)\n",
    "        new_position = position + shift_amount\n",
    "        end_text += alphabet[new_position]\n",
    "    print(f\"The {cipher_direction}d text is {end_text}\")\n",
    "\n",
    "caesar(start_text=text, shift_amount=shift, cipher_direction=direction)\n",
    "\n",
    "def encrypt(plain_text, shift_amount):\n",
    "    cipher_text = \"\"\n",
    "    for letter in plain_text:\n",
    "        position = alphabet.index(letter)\n",
    "        new_position = position + shift_amount\n",
    "        if new_position > len(alphabet):\n",
    "            new_position = new_position - len(alphabet)\n",
    "        new_letter = alphabet[new_position]\n",
    "        cipher_text +=new_letter\n",
    "    print(f\"The encoded text is {cipher_text}\")\n",
    "\n",
    "def decrypt(cipher_text, shift_amount):\n",
    "    decoded_text = \"\"\n",
    "    for letter in cipher_text:\n",
    "        position = alphabet.index(letter)\n",
    "        new_position = position - shift_amount\n",
    "        if new_position < 1:\n",
    "            new_position = len(alphabet) - new_position\n",
    "        new_letter = alphabet[new_position]\n",
    "        decoded_text += new_letter\n",
    "    print(f\"The decoded text is {decoded_text}\")\n",
    "\n",
    "if direction == \"encode\":\n",
    "    encrypt(plain_text=text, shift_amount=shift)\n",
    "elif direction == \"decode\":\n",
    "    decrypt(cipher_text=text,shift_amount=shift)\n",
    "else:\n",
    "    print(\"Invalid \")"
   ]
  }
 ],
 "metadata": {
  "kernelspec": {
   "display_name": "Python 3",
   "language": "python",
   "name": "python3"
  },
  "language_info": {
   "codemirror_mode": {
    "name": "ipython",
    "version": 3
   },
   "file_extension": ".py",
   "mimetype": "text/x-python",
   "name": "python",
   "nbconvert_exporter": "python",
   "pygments_lexer": "ipython3",
   "version": "3.11.0"
  },
  "orig_nbformat": 4
 },
 "nbformat": 4,
 "nbformat_minor": 2
}
