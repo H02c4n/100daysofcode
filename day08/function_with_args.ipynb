{
 "cells": [
  {
   "cell_type": "code",
   "execution_count": 2,
   "metadata": {},
   "outputs": [
    {
     "name": "stdout",
     "output_type": "stream",
     "text": [
      "Hello ahmet\n",
      "Hello adolf\n",
      "Hello aron\n"
     ]
    }
   ],
   "source": [
    "def greet(name):\n",
    "    print(f\"Hello {name}\")\n",
    "\n",
    "\n",
    "greet('ahmet')\n",
    "greet('adolf')\n",
    "greet('aron')"
   ]
  },
  {
   "cell_type": "code",
   "execution_count": 4,
   "metadata": {},
   "outputs": [
    {
     "name": "stdout",
     "output_type": "stream",
     "text": [
      "Hello Alice\n",
      "what is it like London\n"
     ]
    }
   ],
   "source": [
    "## positional argument\n",
    "\n",
    "def greet_with(name, location):\n",
    "    print(f\"Hello {name}\")\n",
    "    print(f\"what is it like {location}\")\n",
    "\n",
    "greet_with(name=\"Alice\", location=\"London\")"
   ]
  }
 ],
 "metadata": {
  "kernelspec": {
   "display_name": "Python 3",
   "language": "python",
   "name": "python3"
  },
  "language_info": {
   "codemirror_mode": {
    "name": "ipython",
    "version": 3
   },
   "file_extension": ".py",
   "mimetype": "text/x-python",
   "name": "python",
   "nbconvert_exporter": "python",
   "pygments_lexer": "ipython3",
   "version": "3.11.0"
  },
  "orig_nbformat": 4
 },
 "nbformat": 4,
 "nbformat_minor": 2
}
