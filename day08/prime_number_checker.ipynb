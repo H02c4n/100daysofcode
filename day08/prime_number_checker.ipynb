{
 "cells": [
  {
   "cell_type": "code",
   "execution_count": 4,
   "metadata": {},
   "outputs": [
    {
     "name": "stdout",
     "output_type": "stream",
     "text": [
      "It's a prime number\n"
     ]
    }
   ],
   "source": [
    "\n",
    "def prime_checker(number):\n",
    "    is_prime = True\n",
    "    for i in range(2,number):\n",
    "       if number % i == 0:\n",
    "           is_prime = False\n",
    "    if is_prime:\n",
    "        print(\"It's a prime number\")\n",
    "    else:\n",
    "        print(\"It's not a prime number\")\n",
    "\n",
    "\n",
    "\n",
    "n = int(input(\"Check this number: \"))\n",
    "\n",
    "prime_checker(number=n)"
   ]
  }
 ],
 "metadata": {
  "kernelspec": {
   "display_name": "Python 3",
   "language": "python",
   "name": "python3"
  },
  "language_info": {
   "codemirror_mode": {
    "name": "ipython",
    "version": 3
   },
   "file_extension": ".py",
   "mimetype": "text/x-python",
   "name": "python",
   "nbconvert_exporter": "python",
   "pygments_lexer": "ipython3",
   "version": "3.11.0"
  },
  "orig_nbformat": 4
 },
 "nbformat": 4,
 "nbformat_minor": 2
}
