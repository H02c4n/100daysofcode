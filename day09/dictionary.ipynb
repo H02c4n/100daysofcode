{
 "cells": [
  {
   "cell_type": "code",
   "execution_count": 5,
   "metadata": {},
   "outputs": [
    {
     "name": "stdout",
     "output_type": "stream",
     "text": [
      "blablabla...\n",
      "{'square': 'blablabla...', 'triangle': 'sdfsdfsdfsdf', 'rectangle': 'sdfiskjdfskdfsdf'}\n"
     ]
    },
    {
     "ename": "ValueError",
     "evalue": "too many values to unpack (expected 2)",
     "output_type": "error",
     "traceback": [
      "\u001b[1;31m---------------------------------------------------------------------------\u001b[0m",
      "\u001b[1;31mValueError\u001b[0m                                Traceback (most recent call last)",
      "Cell \u001b[1;32mIn[5], line 13\u001b[0m\n\u001b[0;32m      9\u001b[0m \u001b[39m#Empty dict\u001b[39;00m\n\u001b[0;32m     11\u001b[0m animals \u001b[39m=\u001b[39m {}\n\u001b[1;32m---> 13\u001b[0m \u001b[39mfor\u001b[39;00m key, value \u001b[39min\u001b[39;00m shapes:\n\u001b[0;32m     14\u001b[0m     \u001b[39mprint\u001b[39m(key,value)\n",
      "\u001b[1;31mValueError\u001b[0m: too many values to unpack (expected 2)"
     ]
    }
   ],
   "source": [
    "shapes ={\"square\": \"blablabla...\",\n",
    "         \"triangle\": \"sdfsdfsdfsdf\"}\n",
    "\n",
    "shapes[\"rectangle\"] = \"sdfiskjdfskdfsdf\"\n",
    "\n",
    "print(shapes['square'])\n",
    "print(shapes)\n",
    "\n",
    "#Empty dict\n",
    "\n",
    "animals = {}\n",
    "\n",
    "for key in shapes:\n",
    "    print(key)\n",
    "    print(shapes[key])\n"
   ]
  }
 ],
 "metadata": {
  "kernelspec": {
   "display_name": "Python 3",
   "language": "python",
   "name": "python3"
  },
  "language_info": {
   "codemirror_mode": {
    "name": "ipython",
    "version": 3
   },
   "file_extension": ".py",
   "mimetype": "text/x-python",
   "name": "python",
   "nbconvert_exporter": "python",
   "pygments_lexer": "ipython3",
   "version": "3.11.0"
  },
  "orig_nbformat": 4
 },
 "nbformat": 4,
 "nbformat_minor": 2
}
