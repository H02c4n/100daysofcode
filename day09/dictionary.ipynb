{
 "cells": [
  {
   "cell_type": "code",
   "execution_count": null,
   "metadata": {},
   "outputs": [],
   "source": [
    "shapes ={\"square\": \"blablabla...\",\n",
    "         \"triangle\": \"sdfsdfsdfsdf\"}\n",
    "\n",
    "print(shapes['square'])"
   ]
  }
 ],
 "metadata": {
  "language_info": {
   "name": "python"
  },
  "orig_nbformat": 4
 },
 "nbformat": 4,
 "nbformat_minor": 2
}
