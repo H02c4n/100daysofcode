{
 "cells": [
  {
   "cell_type": "code",
   "execution_count": 1,
   "metadata": {},
   "outputs": [
    {
     "name": "stdout",
     "output_type": "stream",
     "text": [
      "blablabla...\n"
     ]
    }
   ],
   "source": [
    "shapes ={\"square\": \"blablabla...\",\n",
    "         \"triangle\": \"sdfsdfsdfsdf\"}\n",
    "\n",
    "shapes[\"rectangle\"] = \"sdfiskjdfskdfsdf\"\n",
    "\n",
    "print(shapes['square'])\n",
    "print(shapes)\n",
    "\n",
    "#Empty dict\n",
    "\n",
    "animals = {}\n"
   ]
  }
 ],
 "metadata": {
  "kernelspec": {
   "display_name": "Python 3",
   "language": "python",
   "name": "python3"
  },
  "language_info": {
   "codemirror_mode": {
    "name": "ipython",
    "version": 3
   },
   "file_extension": ".py",
   "mimetype": "text/x-python",
   "name": "python",
   "nbconvert_exporter": "python",
   "pygments_lexer": "ipython3",
   "version": "3.11.0"
  },
  "orig_nbformat": 4
 },
 "nbformat": 4,
 "nbformat_minor": 2
}
