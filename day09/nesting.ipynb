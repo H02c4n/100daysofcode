{
 "cells": [
  {
   "cell_type": "code",
   "execution_count": 2,
   "metadata": {},
   "outputs": [
    {
     "name": "stdout",
     "output_type": "stream",
     "text": [
      "[{'country': 'France', 'cities_visited': ['Paris', 'Lille', 'Dijon'], 'total_visits': 12}, {'country': 'Germany', 'cities_visited': ['Berlin', 'Hamburg', 'Stuttgart'], 'total_visits': 9}, {'country': 'Russia', 'total_visits': 2, 'cities_visited': ['Moscow', 'Saint Petersburg']}]\n"
     ]
    }
   ],
   "source": [
    "capitals ={\n",
    "    \"France\" : \"Paris\",\n",
    "    \"Germany\" : \"Berlin\",\n",
    "}\n",
    "\n",
    "travel_log_list_in_dict = {\n",
    "    \"France\" : [\"Paris\", \"Lille\", \"Dijon\"],\n",
    "    \"Germany\" : [\"Berlin\", \"Hamburg\", \"Stuttgart\"],\n",
    "}\n",
    "\n",
    "travel_log_dict_in_dict = {\n",
    "    \"France\" : {\"cities_visited\":[\"Paris\", \"Lille\", \"Dijon\"], \"total_visits\":12},\n",
    "    \"Germany\" : {\"cities_visited\":[\"Berlin\", \"Hamburg\", \"Stuttgart\"], \"total_visits\":9},\n",
    "}\n",
    "\n",
    "\n",
    "travel_log_dict_in_list = [\n",
    "    {\"country\":\"France\", \"cities_visited\":[\"Paris\", \"Lille\", \"Dijon\"], \"total_visits\":12},\n",
    "    {\"country\":\"Germany\", \"cities_visited\":[\"Berlin\", \"Hamburg\", \"Stuttgart\"], \"total_visits\":9}\n",
    "]\n",
    "\n",
    "def add_new_country(country_visited, times_visited, cities_visited):\n",
    "    new_country = {}\n",
    "    new_country[\"country\"] = country_visited\n",
    "    new_country[\"total_visits\"] = times_visited\n",
    "    new_country[\"cities_visited\"] = cities_visited\n",
    "    travel_log_dict_in_list.append(new_country)\n",
    "\n",
    "\n",
    "add_new_country(\"Russia\", 2, [\"Moscow\", \"Saint Petersburg\"])\n",
    "\n",
    "print(travel_log_dict_in_list)"
   ]
  }
 ],
 "metadata": {
  "kernelspec": {
   "display_name": "Python 3",
   "language": "python",
   "name": "python3"
  },
  "language_info": {
   "codemirror_mode": {
    "name": "ipython",
    "version": 3
   },
   "file_extension": ".py",
   "mimetype": "text/x-python",
   "name": "python",
   "nbconvert_exporter": "python",
   "pygments_lexer": "ipython3",
   "version": "3.11.0"
  },
  "orig_nbformat": 4
 },
 "nbformat": 4,
 "nbformat_minor": 2
}
