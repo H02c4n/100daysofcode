{
 "cells": [
  {
   "cell_type": "code",
   "execution_count": null,
   "metadata": {},
   "outputs": [],
   "source": [
    "capitals ={\n",
    "    \"France\" : \"Paris\",\n",
    "    \"Germany\" : \"Berlin\",\n",
    "}\n",
    "\n",
    "travel_log_list_in_dict = {\n",
    "    \"France\" : [\"Paris\", \"Lille\", \"Dijon\"],\n",
    "    \"Germany\" : [\"Berlin\", \"Hamburg\", \"Stuttgart\"],\n",
    "}\n",
    "\n",
    "travel_log_dict_in_dict = {\n",
    "    \"France\" : {\"cities_visited\":[\"Paris\", \"Lille\", \"Dijon\"], \"total_visits\":12},\n",
    "    \"Germany\" : {\"cities_visited\":[\"Berlin\", \"Hamburg\", \"Stuttgart\"], \"total_visits\":9},\n",
    "}\n",
    "\n",
    "\n",
    "travel_log_dict_in_list = [\n",
    "    {\"country\":\"France\", \"cities_visited\":[\"Paris\", \"Lille\", \"Dijon\"], \"total_visits\":12},\n",
    "    {\"country\":\"Germany\", \"cities_visited\":[\"Berlin\", \"Hamburg\", \"Stuttgart\"], \"total_visits\":9}\n",
    "]"
   ]
  }
 ],
 "metadata": {
  "language_info": {
   "name": "python"
  },
  "orig_nbformat": 4
 },
 "nbformat": 4,
 "nbformat_minor": 2
}
