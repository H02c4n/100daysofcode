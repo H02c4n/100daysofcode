{
 "cells": [
  {
   "cell_type": "code",
   "execution_count": 3,
   "metadata": {},
   "outputs": [
    {
     "name": "stdout",
     "output_type": "stream",
     "text": [
      "{'Haryy': 'Exceeds Expectations', 'Ron': 'Acceptable', 'Hermione': 'Outstanding', 'Draco': 'Acceptable', 'Neville': 'Fail'}\n"
     ]
    }
   ],
   "source": [
    "student_scores = {\n",
    "    \"Haryy\": 81,\n",
    "    \"Ron\": 78,\n",
    "    \"Hermione\": 99,\n",
    "    \"Draco\": 74,\n",
    "    \"Neville\": 62,\n",
    "}\n",
    "\n",
    "student_grades ={}\n",
    "\n",
    "for key in student_scores:\n",
    "    if student_scores[key] >= 91:\n",
    "        student_grades[key] = \"Outstanding\"\n",
    "    elif student_scores[key] >= 81:\n",
    "        student_grades[key] = \"Exceeds Expectations\"\n",
    "    elif student_scores[key] >= 71:\n",
    "        student_grades[key] = \"Acceptable\"\n",
    "    else:\n",
    "        student_grades[key] = \"Fail\"\n",
    "\n",
    "\n",
    "\n",
    "print(student_grades)"
   ]
  }
 ],
 "metadata": {
  "kernelspec": {
   "display_name": "Python 3",
   "language": "python",
   "name": "python3"
  },
  "language_info": {
   "codemirror_mode": {
    "name": "ipython",
    "version": 3
   },
   "file_extension": ".py",
   "mimetype": "text/x-python",
   "name": "python",
   "nbconvert_exporter": "python",
   "pygments_lexer": "ipython3",
   "version": "3.11.0"
  },
  "orig_nbformat": 4
 },
 "nbformat": 4,
 "nbformat_minor": 2
}
