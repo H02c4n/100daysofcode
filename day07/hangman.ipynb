{
 "cells": [
  {
   "attachments": {},
   "cell_type": "markdown",
   "metadata": {},
   "source": [
    "### Pseude Code ###\n",
    "1-start\n",
    "2-generate a random word   like mouse\n",
    "3-generate as many blanks as letters in word like this _ _ _ _ _\n",
    "4-ask the user to guess a letter\n",
    "5-Is the guessed letter in the word\n",
    "a-yes => replace the blank with the letter\n",
    "b-no => lose a life\n",
    "\n",
    "6- are all the blanks filled?\n",
    "a-yes => game over\n",
    "b-no => 4\n",
    "7- have they run out of lives?\n",
    "a-yes => game over\n",
    "b-no => 4"
   ]
  },
  {
   "cell_type": "code",
   "execution_count": 13,
   "metadata": {},
   "outputs": [
    {
     "name": "stdout",
     "output_type": "stream",
     "text": [
      "\n",
      " _                                             \n",
      "| |                                            \n",
      "| |__   __ _ _ __   __ _ _ __ ___   __ _ _ __  \n",
      "| '_ \\ / _` | '_ \\ / _` | '_ ` _ \\ / _` | '_ \\ \n",
      "| | | | (_| | | | | (_| | | | | | | (_| | | | |\n",
      "|_| |_|\\__,_|_| |_|\\__, |_| |_| |_|\\__,_|_| |_|\n",
      "                    __/ |                      \n",
      "                   |___/                       \n",
      "\n",
      "['_', '_', '_', '_', '_']\n",
      "['_', 'p', 'p', '_', '_']\n"
     ]
    }
   ],
   "source": [
    "import random\n",
    "print('''\n",
    " _                                             \n",
    "| |                                            \n",
    "| |__   __ _ _ __   __ _ _ __ ___   __ _ _ __  \n",
    "| '_ \\ / _` | '_ \\ / _` | '_ ` _ \\ / _` | '_ \\ \n",
    "| | | | (_| | | | | (_| | | | | | | (_| | | | |\n",
    "|_| |_|\\__,_|_| |_|\\__, |_| |_| |_|\\__,_|_| |_|\n",
    "                    __/ |                      \n",
    "                   |___/                       \n",
    "''')\n",
    "\n",
    "word_list = [\"apple\", \"banana\", \"camel\", \"rabbit\", \"carrot\"]\n",
    "display = []\n",
    "chosen_word = random.choice(word_list)\n",
    "\n",
    "\n",
    "word_lenght = len(chosen_word)\n",
    "for _ in range(word_lenght):\n",
    "    display += \"_\"\n",
    "print(display)\n",
    "\n",
    "end_of_game = False\n",
    "\n",
    "while not end_of_game:\n",
    "\n",
    "    guess = input(\"Guess a letter\").lower()\n",
    "\n",
    "    for position in range(word_lenght):\n",
    "        letter = chosen_word[position]\n",
    "        if letter == guess:\n",
    "            display[position] = letter\n",
    "    print(display)\n",
    "\n",
    "    if \"_\" not in display:\n",
    "        end_of_game = True\n",
    "        print(\"You Win\")"
   ]
  }
 ],
 "metadata": {
  "kernelspec": {
   "display_name": "Python 3",
   "language": "python",
   "name": "python3"
  },
  "language_info": {
   "codemirror_mode": {
    "name": "ipython",
    "version": 3
   },
   "file_extension": ".py",
   "mimetype": "text/x-python",
   "name": "python",
   "nbconvert_exporter": "python",
   "pygments_lexer": "ipython3",
   "version": "3.11.0"
  },
  "orig_nbformat": 4
 },
 "nbformat": 4,
 "nbformat_minor": 2
}
