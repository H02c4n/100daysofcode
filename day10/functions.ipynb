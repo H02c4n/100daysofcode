{
 "cells": [
  {
   "cell_type": "code",
   "execution_count": 8,
   "metadata": {},
   "outputs": [
    {
     "name": "stdout",
     "output_type": "stream",
     "text": [
      "Ahmet Fresld\n"
     ]
    }
   ],
   "source": [
    "#Functions with outputs\n",
    "\n",
    "def format_name(f_name, l_name):\n",
    "    f_name = f_name.capitalize()  \n",
    "    l_name = l_name.capitalize()\n",
    "    return f\"{f_name} {l_name}\"\n",
    "\n",
    "full_name = format_name(\"ahMet\", \"freslD\")\n",
    "\n",
    "print(full_name)"
   ]
  },
  {
   "cell_type": "code",
   "execution_count": null,
   "metadata": {},
   "outputs": [],
   "source": [
    "## Multiple return \n",
    "def format_name(f_name, l_name):\n",
    "    if f_name == \"\"  or l_name == \"\":\n",
    "        return \"Please enter a valid name\"\n",
    "    f_name = f_name.capitalize()  \n",
    "    l_name = l_name.capitalize()\n",
    "    return f\"{f_name} {l_name}\"\n",
    "\n",
    "full_name = format_name(input(\"Enter your first_name\"), input(\"Enter your last_name\"))\n",
    "\n",
    "print(full_name)\n"
   ]
  }
 ],
 "metadata": {
  "kernelspec": {
   "display_name": "Python 3",
   "language": "python",
   "name": "python3"
  },
  "language_info": {
   "codemirror_mode": {
    "name": "ipython",
    "version": 3
   },
   "file_extension": ".py",
   "mimetype": "text/x-python",
   "name": "python",
   "nbconvert_exporter": "python",
   "pygments_lexer": "ipython3",
   "version": "3.11.0"
  },
  "orig_nbformat": 4
 },
 "nbformat": 4,
 "nbformat_minor": 2
}
