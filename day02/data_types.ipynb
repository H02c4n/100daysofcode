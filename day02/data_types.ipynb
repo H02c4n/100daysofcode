{
 "cells": [
  {
   "cell_type": "code",
   "execution_count": 3,
   "metadata": {},
   "outputs": [
    {
     "name": "stdout",
     "output_type": "stream",
     "text": [
      "H\n",
      "e\n",
      "l\n",
      "l\n",
      "o\n",
      "468\n"
     ]
    }
   ],
   "source": [
    "#Data Types\n",
    "# String\n",
    "print(\"Hello\"[0]) # H\n",
    "print(\"Hello\"[1]) # e\n",
    "print(\"Hello\"[2]) # l\n",
    "print(\"Hello\"[3]) # l\n",
    "print(\"Hello\"[4]) # o\n",
    "\n",
    "#Integer\n",
    "print(123 + 345)\n",
    "\n",
    "#Float\n",
    "3.14159\n",
    "\n",
    "#Boolean\n",
    "True\n",
    "False\n",
    "\n"
   ]
  }
 ],
 "metadata": {
  "kernelspec": {
   "display_name": "Python 3",
   "language": "python",
   "name": "python3"
  },
  "language_info": {
   "codemirror_mode": {
    "name": "ipython",
    "version": 3
   },
   "file_extension": ".py",
   "mimetype": "text/x-python",
   "name": "python",
   "nbconvert_exporter": "python",
   "pygments_lexer": "ipython3",
   "version": "3.11.0"
  },
  "orig_nbformat": 4
 },
 "nbformat": 4,
 "nbformat_minor": 2
}
