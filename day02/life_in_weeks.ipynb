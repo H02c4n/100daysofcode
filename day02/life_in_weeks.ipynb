{
 "cells": [
  {
   "cell_type": "code",
   "execution_count": 3,
   "metadata": {},
   "outputs": [
    {
     "name": "stdout",
     "output_type": "stream",
     "text": [
      "You have 365 days, 52 weeks and 12 mounths left.\n"
     ]
    }
   ],
   "source": [
    "age = input(\"Enter your age?\")\n",
    "\n",
    "age_as_int = int(age)\n",
    "\n",
    "years_remaining = 90 - age_as_int\n",
    "days_remaining = years_remaining*365\n",
    "weeks_remaining = years_remaining*52\n",
    "months_remaining = years_remaining*12\n",
    "\n",
    "print(f\"You have {days_remaining} days, {weeks_remaining} weeks and {months_remaining} mounths left.\")"
   ]
  }
 ],
 "metadata": {
  "kernelspec": {
   "display_name": "Python 3",
   "language": "python",
   "name": "python3"
  },
  "language_info": {
   "codemirror_mode": {
    "name": "ipython",
    "version": 3
   },
   "file_extension": ".py",
   "mimetype": "text/x-python",
   "name": "python",
   "nbconvert_exporter": "python",
   "pygments_lexer": "ipython3",
   "version": "3.11.0"
  },
  "orig_nbformat": 4
 },
 "nbformat": 4,
 "nbformat_minor": 2
}
