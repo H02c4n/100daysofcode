{
 "cells": [
  {
   "cell_type": "code",
   "execution_count": 1,
   "metadata": {},
   "outputs": [
    {
     "name": "stdout",
     "output_type": "stream",
     "text": [
      "Welcome to the tip calculator.\n",
      "Each person should pay: $35.42\n"
     ]
    }
   ],
   "source": [
    "print(\"Welcome to the tip calculator.\")\n",
    "total_bil = input(\"What was the total bill?\")\n",
    "total_bil_as_float = float(total_bil)\n",
    "\n",
    "tip_percentage = input(\"What percentage tip would you like to give? 10, 12, or 15?\")\n",
    "tip_percentage_as_int = int(tip_percentage)\n",
    "number_of_people = input(\"How many people to split the bill?\")\n",
    "number_of_people_as_int = int(number_of_people)\n",
    "\n",
    "total_bill_with_tip = total_bil_as_float + (total_bil_as_float/100)*tip_percentage_as_int\n",
    "\n",
    "each_person_will_pay = total_bill_with_tip/number_of_people_as_int\n",
    "\n",
    "final_amount = round(each_person_will_pay, 2)\n",
    "final_amount = \"{:.2f}\".format(each_person_will_pay)\n",
    "print(f\"Each person should pay: ${final_amount}\")"
   ]
  }
 ],
 "metadata": {
  "kernelspec": {
   "display_name": "Python 3",
   "language": "python",
   "name": "python3"
  },
  "language_info": {
   "codemirror_mode": {
    "name": "ipython",
    "version": 3
   },
   "file_extension": ".py",
   "mimetype": "text/x-python",
   "name": "python",
   "nbconvert_exporter": "python",
   "pygments_lexer": "ipython3",
   "version": "3.11.0"
  },
  "orig_nbformat": 4
 },
 "nbformat": 4,
 "nbformat_minor": 2
}
