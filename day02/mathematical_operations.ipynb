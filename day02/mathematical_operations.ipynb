{
 "cells": [
  {
   "cell_type": "code",
   "execution_count": 2,
   "metadata": {},
   "outputs": [
    {
     "name": "stdout",
     "output_type": "stream",
     "text": [
      "<class 'float'>\n",
      "8\n"
     ]
    }
   ],
   "source": [
    "3+5 #8\n",
    "7-4 #3\n",
    "3*2 #6\n",
    "print(type(6/3)) #float\n",
    "\n",
    "print(2**3) # 8\n",
    "\n",
    "#PEMDAS\n",
    "#Parentheses    ()\n",
    "#Exponents      **\n",
    "#Multiplication *\n",
    "#Division       /\n",
    "#Addition       +\n",
    "#Subtraction    -"
   ]
  }
 ],
 "metadata": {
  "kernelspec": {
   "display_name": "Python 3",
   "language": "python",
   "name": "python3"
  },
  "language_info": {
   "codemirror_mode": {
    "name": "ipython",
    "version": 3
   },
   "file_extension": ".py",
   "mimetype": "text/x-python",
   "name": "python",
   "nbconvert_exporter": "python",
   "pygments_lexer": "ipython3",
   "version": "3.11.0"
  },
  "orig_nbformat": 4
 },
 "nbformat": 4,
 "nbformat_minor": 2
}
