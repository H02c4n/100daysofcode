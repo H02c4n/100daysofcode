{
 "cells": [
  {
   "cell_type": "code",
   "execution_count": 2,
   "metadata": {},
   "outputs": [
    {
     "name": "stdout",
     "output_type": "stream",
     "text": [
      "\n",
      " _                                     _     _                 _ \n",
      "| |                                   (_)   | |               | |\n",
      "| |_ _ __ ___  __ _ ___ _   _ _ __ ___ _ ___| | __ _ _ __   __| |\n",
      "| __| '__/ _ \\/ _` / __| | | | '__/ _ \\ / __| |/ _` | '_ \\ / _` |\n",
      "| |_| | |  __/ (_| \\__ \\ |_| | | |  __/ \\__ \\ | (_| | | | | (_| |\n",
      " \\__|_|  \\___|\\__,_|___/\\__,_|_|  \\___|_|___/_|\\__,_|_| |_|\\__,_|\n",
      "                                                                 \n",
      "\n",
      "Welcome to Treasure Island.\n",
      "Your mission is to find the treasure.\n",
      "You found the treasure! You Win!!!\n"
     ]
    }
   ],
   "source": [
    "print('''\n",
    " _                                     _     _                 _ \n",
    "| |                                   (_)   | |               | |\n",
    "| |_ _ __ ___  __ _ ___ _   _ _ __ ___ _ ___| | __ _ _ __   __| |\n",
    "| __| '__/ _ \\/ _` / __| | | | '__/ _ \\ / __| |/ _` | '_ \\ / _` |\n",
    "| |_| | |  __/ (_| \\__ \\ |_| | | |  __/ \\__ \\ | (_| | | | | (_| |\n",
    " \\__|_|  \\___|\\__,_|___/\\__,_|_|  \\___|_|___/_|\\__,_|_| |_|\\__,_|---|||||------>\n",
    "                                                                 \n",
    "''')\n",
    "print(\"Welcome to Treasure Island.\")\n",
    "print(\"Your mission is to find the treasure.\")\n",
    "choice1 = input(\"You are at a crossroad, where do you want to go? Type 'left' or 'right'. \").lower()\n",
    "if choice1 == \"left\":\n",
    "    choice2 = input(\"You have come to a Lake. There is an island in the middle of the Lake. Type 'wait' to wait for a boat or 'swim' to swim across.\").lower()\n",
    "    if choice2 == \"wait\":\n",
    "        choice3 = input(\"You arrive at the island unharmed. There is a house with 3 doors. One red, one yellow and one blue. Which colour do you choose?\").lower()\n",
    "        if choice3 == \"red\":\n",
    "            print(\"It is a room full of fire. Game Over.\")\n",
    "        elif choice3 == \"yellow\":\n",
    "            print(\"You found the treasure! You Win!!!\")\n",
    "        elif choice3 == \"blue\":\n",
    "            print(\"You enter a room of beasts. Game Over.\")\n",
    "        else:\n",
    "            print(\"You chose a door that does nort exist. Game Over.\")\n",
    "    else:\n",
    "        print(\"You got attacked by an angry trout. Game Over.\")\n",
    "else:\n",
    "    print(\"Game Over.\")\n"
   ]
  }
 ],
 "metadata": {
  "kernelspec": {
   "display_name": "Python 3",
   "language": "python",
   "name": "python3"
  },
  "language_info": {
   "codemirror_mode": {
    "name": "ipython",
    "version": 3
   },
   "file_extension": ".py",
   "mimetype": "text/x-python",
   "name": "python",
   "nbconvert_exporter": "python",
   "pygments_lexer": "ipython3",
   "version": "3.11.0"
  },
  "orig_nbformat": 4
 },
 "nbformat": 4,
 "nbformat_minor": 2
}
