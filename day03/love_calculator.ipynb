{
 "cells": [
  {
   "cell_type": "code",
   "execution_count": 4,
   "metadata": {},
   "outputs": [
    {
     "name": "stdout",
     "output_type": "stream",
     "text": [
      "Welcome to the Love Calculator!\n",
      "66\n"
     ]
    }
   ],
   "source": [
    "print(\"Welcome to the Love Calculator!\")\n",
    "name1 = input(\"What is your name? \\n\")\n",
    "name2 = input(\"What is their name? \\n\")\n",
    "\n",
    "name1_lower = name1.lower()\n",
    "name2_lower = name2.lower()\n",
    "total = name1_lower+name2_lower\n",
    "\n",
    "t = total.count(\"t\")\n",
    "r = total.count(\"r\")\n",
    "u = total.count(\"u\")\n",
    "e = total.count(\"e\")\n",
    "x = t+r+u+e\n",
    "\n",
    "l = total.count(\"l\")\n",
    "o = total.count(\"o\")\n",
    "v = total.count(\"v\")\n",
    "e = total.count(\"e\")\n",
    "y = l+o+v+e\n",
    "\n",
    "score = int(str(x)+str(y))\n",
    "\n",
    "if score < 10 or score > 90:\n",
    "    print(f\"Your score is {score}, you go together like coke and mentos.\")\n",
    "elif score >= 40 and score <= 50:\n",
    "    print(f\"Your score is {score}, you are alright together.\")\n",
    "else:\n",
    "    print(f\"Your score is {score}\")"
   ]
  }
 ],
 "metadata": {
  "kernelspec": {
   "display_name": "Python 3",
   "language": "python",
   "name": "python3"
  },
  "language_info": {
   "codemirror_mode": {
    "name": "ipython",
    "version": 3
   },
   "file_extension": ".py",
   "mimetype": "text/x-python",
   "name": "python",
   "nbconvert_exporter": "python",
   "pygments_lexer": "ipython3",
   "version": "3.11.0"
  },
  "orig_nbformat": 4
 },
 "nbformat": 4,
 "nbformat_minor": 2
}
