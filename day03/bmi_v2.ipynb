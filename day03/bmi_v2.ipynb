{
 "cells": [
  {
   "cell_type": "code",
   "execution_count": 5,
   "metadata": {},
   "outputs": [
    {
     "name": "stdout",
     "output_type": "stream",
     "text": [
      "Your BMI is 25 and You are overweight\n"
     ]
    }
   ],
   "source": [
    "height = float(input(\"Enter your height in m: \"))\n",
    "weight = float(input(\"Enter your weight in kg: \"))\n",
    "\n",
    "bmi = round(weight / height**2)\n",
    "\n",
    "if bmi < 18.5:\n",
    "    print(f\"Your BMI is {bmi} and You are underweight\")\n",
    "elif bmi <25:\n",
    "    print(f\"Your BMI is {bmi} and You have a normal weight\")\n",
    "elif bmi <30:\n",
    "    print(f\"Your BMI is {bmi} and You are overweight\")\n",
    "elif bmi < 35:\n",
    "    print(f\"Your BMI is {bmi} and You are obese\")\n",
    "else:\n",
    "    print(f\"Your BMI is {bmi} and You are clinically obese\")"
   ]
  }
 ],
 "metadata": {
  "kernelspec": {
   "display_name": "Python 3",
   "language": "python",
   "name": "python3"
  },
  "language_info": {
   "codemirror_mode": {
    "name": "ipython",
    "version": 3
   },
   "file_extension": ".py",
   "mimetype": "text/x-python",
   "name": "python",
   "nbconvert_exporter": "python",
   "pygments_lexer": "ipython3",
   "version": "3.11.0"
  },
  "orig_nbformat": 4
 },
 "nbformat": 4,
 "nbformat_minor": 2
}
