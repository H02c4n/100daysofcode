{
 "cells": [
  {
   "cell_type": "code",
   "execution_count": 4,
   "metadata": {},
   "outputs": [
    {
     "name": "stdout",
     "output_type": "stream",
     "text": [
      "Welcome to Python Pizza Deliveries!\n",
      "Your final bill is 26\n"
     ]
    }
   ],
   "source": [
    "print(\"Welcome to Python Pizza Deliveries!\")\n",
    "size = input(\"What size pizza do you want? S, M, L\")\n",
    "add_pepperoni = input(\" Do you want pepperoni? Y, N\")\n",
    "extra_cheese = input(\"Do you want extra cheese? Y, N\")\n",
    "#---------pizzas-------#\n",
    "small_pizza = 15\n",
    "medium_pizza = 20\n",
    "large_pizza = 25\n",
    "#---------extra--------#\n",
    "pepperoni_for_small = 2\n",
    "pepperoni_for_medium_and_large = 3\n",
    "ex_cheese = 1\n",
    "#----------------------#\n",
    "bill = 0\n",
    "\n",
    "if size == \"S\":\n",
    "    bill +=15\n",
    "elif size == \"M\":\n",
    "    bill +=20\n",
    "else:\n",
    "    bill += 25\n",
    "\n",
    "if add_pepperoni == \"Y\":\n",
    "    if size == \"S\":\n",
    "        bill +=pepperoni_for_small\n",
    "    else:\n",
    "        bill += pepperoni_for_medium_and_large\n",
    "\n",
    "if extra_cheese == \"Y\":\n",
    "    bill +=ex_cheese\n",
    "\n",
    "print(f\"Your final bill is {bill}\")"
   ]
  }
 ],
 "metadata": {
  "kernelspec": {
   "display_name": "Python 3",
   "language": "python",
   "name": "python3"
  },
  "language_info": {
   "codemirror_mode": {
    "name": "ipython",
    "version": 3
   },
   "file_extension": ".py",
   "mimetype": "text/x-python",
   "name": "python",
   "nbconvert_exporter": "python",
   "pygments_lexer": "ipython3",
   "version": "3.11.0"
  },
  "orig_nbformat": 4
 },
 "nbformat": 4,
 "nbformat_minor": 2
}
