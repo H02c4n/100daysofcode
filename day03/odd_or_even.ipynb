{
 "cells": [
  {
   "cell_type": "code",
   "execution_count": 1,
   "metadata": {},
   "outputs": [
    {
     "name": "stdout",
     "output_type": "stream",
     "text": [
      "23 is odd\n"
     ]
    }
   ],
   "source": [
    "num = int(input(\"Enter a number...\"))\n",
    "\n",
    "if num%2 == 0:\n",
    "    print(f\"{num} is a even\")\n",
    "else:\n",
    "    print(f\"{num} is odd\")"
   ]
  },
  {
   "cell_type": "code",
   "execution_count": null,
   "metadata": {},
   "outputs": [],
   "source": [
    "print(\"Welcome to the rollercoaster!\")\n",
    "height = int(input(\"What is your height in cm? \"))\n",
    "\n",
    "if height >= 120:\n",
    "    print(\"You can ride the rollercoaster!\")\n",
    "    age = int(input(\"What is your age?\"))\n",
    "    if age <= 18:\n",
    "        print(\"Your ticket price is $7\")\n",
    "    else:\n",
    "        print(\"Your ticket price is $12\")\n",
    "\n",
    "else:\n",
    "    print(\"Sorry, you have to grow taller before you can ride.\")"
   ]
  }
 ],
 "metadata": {
  "kernelspec": {
   "display_name": "Python 3",
   "language": "python",
   "name": "python3"
  },
  "language_info": {
   "codemirror_mode": {
    "name": "ipython",
    "version": 3
   },
   "file_extension": ".py",
   "mimetype": "text/x-python",
   "name": "python",
   "nbconvert_exporter": "python",
   "pygments_lexer": "ipython3",
   "version": "3.11.0"
  },
  "orig_nbformat": 4
 },
 "nbformat": 4,
 "nbformat_minor": 2
}
