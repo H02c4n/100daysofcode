{
 "cells": [
  {
   "cell_type": "code",
   "execution_count": 6,
   "metadata": {},
   "outputs": [
    {
     "name": "stdout",
     "output_type": "stream",
     "text": [
      "er is going to buy the meal today!\n"
     ]
    }
   ],
   "source": [
    "names_string = input(\"Give me everybody's names, seperated by a comma.\")\n",
    "\n",
    "names = names_string.split(\",\")\n",
    "\n",
    "import random\n",
    "\n",
    "chosen_index = random.randint(0, len(names)-1)\n",
    "\n",
    "print(f\"{names[chosen_index]} is going to buy the meal today!\")"
   ]
  }
 ],
 "metadata": {
  "kernelspec": {
   "display_name": "Python 3",
   "language": "python",
   "name": "python3"
  },
  "language_info": {
   "codemirror_mode": {
    "name": "ipython",
    "version": 3
   },
   "file_extension": ".py",
   "mimetype": "text/x-python",
   "name": "python",
   "nbconvert_exporter": "python",
   "pygments_lexer": "ipython3",
   "version": "3.11.0"
  },
  "orig_nbformat": 4
 },
 "nbformat": 4,
 "nbformat_minor": 2
}
