{
 "cells": [
  {
   "cell_type": "code",
   "execution_count": 1,
   "metadata": {},
   "outputs": [
    {
     "name": "stdout",
     "output_type": "stream",
     "text": [
      "average height of all students is 162\n"
     ]
    }
   ],
   "source": [
    "students_heights = [156,124,134,167,189,199]\n",
    "\n",
    "total = 0\n",
    "for sh in students_heights:\n",
    "    total += sh\n",
    "\n",
    "avg = total/len(students_heights)\n",
    "\n",
    "print(f\"average height of all students is {round(avg)}\")\n",
    "print(f\"The tallest students height is {max(students_heights)}\")\n"
   ]
  }
 ],
 "metadata": {
  "kernelspec": {
   "display_name": "Python 3",
   "language": "python",
   "name": "python3"
  },
  "language_info": {
   "codemirror_mode": {
    "name": "ipython",
    "version": 3
   },
   "file_extension": ".py",
   "mimetype": "text/x-python",
   "name": "python",
   "nbconvert_exporter": "python",
   "pygments_lexer": "ipython3",
   "version": "3.11.0"
  },
  "orig_nbformat": 4
 },
 "nbformat": 4,
 "nbformat_minor": 2
}
