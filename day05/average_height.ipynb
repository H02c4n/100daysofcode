{
 "cells": [
  {
   "cell_type": "code",
   "execution_count": 4,
   "metadata": {},
   "outputs": [
    {
     "name": "stdout",
     "output_type": "stream",
     "text": [
      "average height of all students is 162\n",
      "The tallest students height is 199\n",
      "The shortest students height is 124\n"
     ]
    }
   ],
   "source": [
    "students_heights = [156,124,134,167,189,199]\n",
    "\n",
    "total = 0\n",
    "for sh in students_heights:\n",
    "    total += sh\n",
    "\n",
    "avg = total/len(students_heights)\n",
    "\n",
    "print(f\"average height of all students is {round(avg)}\")\n",
    "print(f\"The tallest students height is {max(students_heights)}\")\n",
    "print(f\"The shortest students height is {min(students_heights)}\")\n"
   ]
  },
  {
   "cell_type": "code",
   "execution_count": 5,
   "metadata": {},
   "outputs": [
    {
     "ename": "SyntaxError",
     "evalue": "expected ':' (2435279784.py, line 6)",
     "output_type": "error",
     "traceback": [
      "\u001b[1;36m  Cell \u001b[1;32mIn[5], line 6\u001b[1;36m\u001b[0m\n\u001b[1;33m    if score > highest_score\u001b[0m\n\u001b[1;37m                            ^\u001b[0m\n\u001b[1;31mSyntaxError\u001b[0m\u001b[1;31m:\u001b[0m expected ':'\n"
     ]
    }
   ],
   "source": [
    "students_scores = [156,124,134,167,189,199]\n",
    "\n",
    "highest_score = 0\n",
    "\n",
    "for score in students_scores:\n",
    "    if score > highest_score:\n",
    "        highest_score = score\n",
    "print(f\"The highest score in the class is : {highest_score}\")"
   ]
  }
 ],
 "metadata": {
  "kernelspec": {
   "display_name": "Python 3",
   "language": "python",
   "name": "python3"
  },
  "language_info": {
   "codemirror_mode": {
    "name": "ipython",
    "version": 3
   },
   "file_extension": ".py",
   "mimetype": "text/x-python",
   "name": "python",
   "nbconvert_exporter": "python",
   "pygments_lexer": "ipython3",
   "version": "3.11.0"
  },
  "orig_nbformat": 4
 },
 "nbformat": 4,
 "nbformat_minor": 2
}
