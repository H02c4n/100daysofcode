{
 "cells": [
  {
   "cell_type": "code",
   "execution_count": null,
   "metadata": {},
   "outputs": [],
   "source": [
    "students_heights = [156,124,134,167,189,199]\n",
    "\n",
    "total = 0\n",
    "for sh in students_heights:\n",
    "    total += sh\n",
    "\n",
    "avg = total/len(students_heights)\n",
    "\n",
    "print(f\"average height of all students is {round(avg)}\")"
   ]
  }
 ],
 "metadata": {
  "language_info": {
   "name": "python"
  },
  "orig_nbformat": 4
 },
 "nbformat": 4,
 "nbformat_minor": 2
}
