{
 "cells": [
  {
   "cell_type": "code",
   "execution_count": 4,
   "metadata": {},
   "outputs": [
    {
     "name": "stdout",
     "output_type": "stream",
     "text": [
      "average height of all students is 162\n",
      "The tallest students height is 199\n",
      "The shortest students height is 124\n"
     ]
    }
   ],
   "source": [
    "students_heights = [156,124,134,167,189,199]\n",
    "\n",
    "total = 0\n",
    "for sh in students_heights:\n",
    "    total += sh\n",
    "\n",
    "avg = total/len(students_heights)\n",
    "\n",
    "print(f\"average height of all students is {round(avg)}\")\n",
    "print(f\"The tallest students height is {max(students_heights)}\")\n",
    "print(f\"The shortest students height is {min(students_heights)}\")\n"
   ]
  },
  {
   "cell_type": "code",
   "execution_count": 6,
   "metadata": {},
   "outputs": [
    {
     "name": "stdout",
     "output_type": "stream",
     "text": [
      "The highest score in the class is : 199\n"
     ]
    }
   ],
   "source": [
    "students_scores = [156,124,134,167,189,199]\n",
    "\n",
    "highest_score = 0\n",
    "\n",
    "for score in students_scores:\n",
    "    if score > highest_score:\n",
    "        highest_score = score\n",
    "print(f\"The highest score in the class is : {highest_score}\")"
   ]
  }
 ],
 "metadata": {
  "kernelspec": {
   "display_name": "Python 3",
   "language": "python",
   "name": "python3"
  },
  "language_info": {
   "codemirror_mode": {
    "name": "ipython",
    "version": 3
   },
   "file_extension": ".py",
   "mimetype": "text/x-python",
   "name": "python",
   "nbconvert_exporter": "python",
   "pygments_lexer": "ipython3",
   "version": "3.11.0"
  },
  "orig_nbformat": 4
 },
 "nbformat": 4,
 "nbformat_minor": 2
}
